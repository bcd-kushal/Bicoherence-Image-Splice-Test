{
  "cells": [
    {
      "cell_type": "markdown",
      "metadata": {
        "id": "view-in-github",
        "colab_type": "text"
      },
      "source": [
        "<a href=\"https://colab.research.google.com/github/bcd-kushal/bicoherence-img-splicing/blob/main/bicoherence_img_splicing.ipynb\" target=\"_parent\"><img src=\"https://colab.research.google.com/assets/colab-badge.svg\" alt=\"Open In Colab\"/></a>"
      ]
    },
    {
      "cell_type": "code",
      "execution_count": null,
      "metadata": {
        "id": "s2w63cNmPkUc"
      },
      "outputs": [],
      "source": [
        "import os\n",
        "import cv2\n",
        "import time\n",
        "import numpy as np\n",
        "from sklearn.model_selection import train_test_split\n",
        "from sklearn.linear_model import LogisticRegression\n",
        "from sklearn.neighbors import KNeighborsClassifier\n",
        "from sklearn.svm import LinearSVC\n",
        "from sklearn.ensemble import VotingClassifier\n",
        "from sklearn.svm import SVC\n",
        "from sklearn.metrics import accuracy_score\n",
        "from math import pi\n",
        "from numpy.fft import rfftfreq, rfft\n",
        "from scipy.fftpack import next_fast_len\n",
        "from scipy.signal import spectrogram\n",
        "from scipy import ndimage\n",
        "from scipy.ndimage import convolve\n",
        "from scipy import misc\n",
        "import matplotlib.pyplot as pt\n",
        "import pandas as pd\n",
        "import seaborn as sb\n",
        "import joblib"
      ]
    },
    {
      "cell_type": "code",
      "execution_count": null,
      "metadata": {
        "id": "Q1rMFjObP0VM"
      },
      "outputs": [],
      "source": [
        "#CANNY\n",
        "class cannyEdgeDetector:\n",
        "    def __init__(self, imgs, sigma=8, kernel_size=3, weak_pixel=100, strong_pixel=250,\n",
        "                 lowthreshold=0.09, highthreshold=0.16):\n",
        "        self.imgs = imgs\n",
        "        self.imgs_final = []\n",
        "        self.img_smoothed = None\n",
        "        self.gradientMat = None\n",
        "        self.thetaMat = None\n",
        "        self.nonMaxImg = None\n",
        "        self.thresholdImg = None\n",
        "        self.weak_pixel = weak_pixel\n",
        "        self.strong_pixel = strong_pixel\n",
        "        self.sigma = sigma\n",
        "        self.kernel_size = kernel_size\n",
        "        self.lowThreshold = lowthreshold\n",
        "        self.highThreshold = highthreshold\n",
        "        return\n",
        "\n",
        "    def gaussian_kernel(self, size, sigma=1):\n",
        "        size = int(size) // 2\n",
        "        x, y = np.mgrid[-size:size+1, -size:size+1]\n",
        "        normal = 1 / (2.0 * np.pi * sigma**2)\n",
        "        g =  np.exp(-((x**2 + y**2) / (2.0*sigma**2))) * normal\n",
        "        return g\n",
        "\n",
        "    def sobel_filters(self, img):\n",
        "        Kx = np.array([[-1, 0, 1], [-2, 0, 2], [-1, 0, 1]], np.float32)\n",
        "        Ky = np.array([[1, 2, 1], [0, 0, 0], [-1, -2, -1]], np.float32)\n",
        "\n",
        "        Ix = ndimage.convolve(img, Kx)\n",
        "        Iy = ndimage.convolve(img, Ky)\n",
        "\n",
        "        G = np.hypot(Ix, Iy)\n",
        "        G = G / G.max() * 255\n",
        "        theta = np.arctan2(Iy, Ix)\n",
        "        return (G, theta)\n",
        "\n",
        "\n",
        "    def non_max_suppression(self, img, D):\n",
        "        M, N = img.shape\n",
        "        Z = np.zeros((M,N), dtype=np.int32)\n",
        "        angle = D * 180. / np.pi\n",
        "        angle[angle < 0] += 180\n",
        "\n",
        "\n",
        "        for i in range(1,M-1):\n",
        "            for j in range(1,N-1):\n",
        "                try:\n",
        "                    q = 255\n",
        "                    r = 255\n",
        "\n",
        "                   #angle 0\n",
        "                    if (0 <= angle[i,j] < 22.5) or (157.5 <= angle[i,j] <= 180):\n",
        "                        q = img[i, j+1]\n",
        "                        r = img[i, j-1]\n",
        "                    #angle 45\n",
        "                    elif (22.5 <= angle[i,j] < 67.5):\n",
        "                        q = img[i+1, j-1]\n",
        "                        r = img[i-1, j+1]\n",
        "                    #angle 90\n",
        "                    elif (67.5 <= angle[i,j] < 112.5):\n",
        "                        q = img[i+1, j]\n",
        "                        r = img[i-1, j]\n",
        "                    #angle 135\n",
        "                    elif (112.5 <= angle[i,j] < 157.5):\n",
        "                        q = img[i-1, j-1]\n",
        "                        r = img[i+1, j+1]\n",
        "\n",
        "                    if (img[i,j] >= q) and (img[i,j] >= r):\n",
        "                        Z[i,j] = img[i,j]\n",
        "                    else:\n",
        "                        Z[i,j] = 0\n",
        "\n",
        "\n",
        "                except IndexError as e:\n",
        "                    pass\n",
        "\n",
        "        return Z\n",
        "\n",
        "    def threshold(self, img):\n",
        "\n",
        "        highThreshold = img.max() * self.highThreshold;\n",
        "        lowThreshold = highThreshold * self.lowThreshold;\n",
        "\n",
        "        M, N = img.shape\n",
        "        res = np.zeros((M,N), dtype=np.int32)\n",
        "\n",
        "        weak = np.int32(self.weak_pixel)\n",
        "        strong = np.int32(self.strong_pixel)\n",
        "\n",
        "        strong_i, strong_j = np.where(img >= highThreshold)\n",
        "        zeros_i, zeros_j = np.where(img < lowThreshold)\n",
        "\n",
        "        weak_i, weak_j = np.where((img <= highThreshold) & (img >= lowThreshold))\n",
        "\n",
        "        res[strong_i, strong_j] = strong\n",
        "        res[weak_i, weak_j] = weak\n",
        "\n",
        "        return (res)\n",
        "\n",
        "    def hysteresis(self, img):\n",
        "\n",
        "        M, N = img.shape\n",
        "        weak = self.weak_pixel\n",
        "        strong = self.strong_pixel\n",
        "\n",
        "        for i in range(1, M-1):\n",
        "            for j in range(1, N-1):\n",
        "                if (img[i,j] == weak):\n",
        "                    try:\n",
        "                        if ((img[i+1, j-1] == strong) or (img[i+1, j] == strong) or (img[i+1, j+1] == strong)\n",
        "                            or (img[i, j-1] == strong) or (img[i, j+1] == strong)\n",
        "                            or (img[i-1, j-1] == strong) or (img[i-1, j] == strong) or (img[i-1, j+1] == strong)):\n",
        "                            img[i, j] = strong\n",
        "                        else:\n",
        "                            img[i, j] = 0\n",
        "                    except IndexError as e:\n",
        "                        pass\n",
        "\n",
        "        return img\n",
        "\n",
        "    def detect(self):\n",
        "        imgs_final = []\n",
        "        for i, img in enumerate(self.imgs):\n",
        "            self.img_smoothed = convolve(img, self.gaussian_kernel(self.kernel_size, self.sigma))\n",
        "            self.gradientMat, self.thetaMat = self.sobel_filters(self.img_smoothed)\n",
        "            self.nonMaxImg = self.non_max_suppression(self.gradientMat, self.thetaMat)\n",
        "            self.thresholdImg = self.threshold(self.nonMaxImg)\n",
        "            img_final = self.hysteresis(self.thresholdImg)\n",
        "            self.imgs_final.append(img_final)\n",
        "\n",
        "        return self.imgs_final"
      ]
    },
    {
      "cell_type": "code",
      "execution_count": null,
      "metadata": {
        "id": "9O4Y084WP3uw"
      },
      "outputs": [],
      "source": [
        "\n",
        "def __get_norm(norm):\n",
        "    if norm == 0 or norm is None:\n",
        "        return None, None\n",
        "    else:\n",
        "        try:\n",
        "            norm1, norm2 = norm\n",
        "        except TypeError:\n",
        "            norm1 = norm2 = norm\n",
        "        return norm1, norm2\n",
        "\n",
        "def __freq_ind(freq, f0):\n",
        "    try:\n",
        "        return [np.argmin(np.abs(freq - f)) for f in f0]\n",
        "    except TypeError:\n",
        "        return np.argmin(np.abs(freq - f0))\n",
        "\n",
        "\n",
        "def __product_other_freqs(spec, indices, synthetic=(), t=None):\n",
        "    p1 = np.prod([amplitude * np.exp(2j * np.pi * freq * t + phase)\n",
        "                  for (freq, amplitude, phase) in synthetic], axis=0)\n",
        "    p2 = np.prod(spec[:, indices[len(synthetic):]], axis=1)\n",
        "    return p1 * p2\n",
        "\n",
        "def _polycoherence_0d(data, fs, *freqs, norm=2, synthetic=(), **kwargs):\n",
        "  \"\"\"Polycoherence between freqs and sum of freqs\"\"\"\n",
        "  norm1, norm2 = __get_norm(norm)\n",
        "  freq, t, spec = spectrogram(data, fs=fs, mode='complex', **kwargs)\n",
        "  ind = __freq_ind(freq, freqs)\n",
        "  sum_ind = __freq_ind(freq, np.sum(freqs))\n",
        "  spec = np.transpose(spec, [1, 0])\n",
        "  p1 = __product_other_freqs(spec, ind, synthetic, t)\n",
        "  p2 = np.conjugate(spec[:, sum_ind])\n",
        "  coh = np.mean(p1 * p2, axis=0)\n",
        "  if norm is not None:\n",
        "    coh = np.abs(coh)\n",
        "    coh **= 2\n",
        "    temp2 = np.mean(np.abs(p1) ** norm1 * np.abs(p2) ** norm2, axis=0)\n",
        "    coh /= temp2\n",
        "    coh **= 0.5\n",
        "  return coh\n",
        "\n",
        "def _polycoherence_1d(data, fs, *freqs, norm=2, synthetic=(), **kwargs):\n",
        "  \"\"\"\n",
        "  Polycoherence between f1 given freqs and their sum as a function of f1\n",
        "  \"\"\"\n",
        "  norm1, norm2 = __get_norm(norm)\n",
        "  freq, t, spec = spectrogram(data, fs=fs, mode='complex', **kwargs)\n",
        "  spec = np.transpose(spec, [1, 0])\n",
        "  ind2 = __freq_ind(freq, freqs)\n",
        "  ind1 = np.arange(len(freq) - sum(ind2))\n",
        "  sumind = ind1 + sum(ind2)\n",
        "  otemp = __product_other_freqs(spec, ind2, synthetic, t)[:, None]\n",
        "  temp = spec[:, ind1] * otemp\n",
        "  temp2 = np.mean(np.abs(temp) ** 2, axis=0)\n",
        "  temp *= np.conjugate(spec[:, sumind])\n",
        "  coh = np.mean(temp, axis=0)\n",
        "  if norm is not None:\n",
        "    coh = np.abs(coh)\n",
        "    coh **= 2\n",
        "    temp2 *= np.mean(np.abs(spec[:, sumind]) ** 2, axis=0)\n",
        "    coh /= temp2\n",
        "    coh **= 0.5\n",
        "  return freq[ind1], coh\n",
        "\n",
        "def _polycoherence_1d_sum(data, fs, f0, *ofreqs, norm=2,\n",
        "                          synthetic=(), **kwargs):\n",
        "  \"\"\"Polycoherence with fixed frequency sum f0 as a function of f1\"\"\"\n",
        "  norm1, norm2 = __get_norm(norm)\n",
        "  freq, t, spec = spectrogram(data, fs=fs, mode='complex', **kwargs)\n",
        "  spec = np.transpose(spec, [1, 0])\n",
        "  ind3 = __freq_ind(freq, ofreqs)\n",
        "  otemp = __product_other_freqs(spec, ind3, synthetic, t)[:, None]\n",
        "  sumind = __freq_ind(freq, f0)\n",
        "  ind1 = np.arange(np.searchsorted(freq, f0 - np.sum(ofreqs)))\n",
        "  ind2 = sumind - ind1 - sum(ind3)\n",
        "  temp = spec[:, ind1] * spec[:, ind2] * otemp\n",
        "  if norm is not None:\n",
        "    temp2 = np.mean(np.abs(temp) ** 2, axis=0)\n",
        "  temp *= np.conjugate(spec[:, sumind, None])\n",
        "  coh = np.mean(temp, axis=0)\n",
        "  if norm is not None:\n",
        "    coh = np.abs(coh)\n",
        "    coh **= 2\n",
        "    temp2 *= np.mean(np.abs(spec[:, sumind]) ** 2, axis=0)\n",
        "    coh /= temp2\n",
        "    coh **= 0.5\n",
        "  return freq[ind1], coh\n",
        "\n",
        "def _polycoherence_2d(data, fs, *ofreqs, norm=2, flim1=None, flim2=None,\n",
        "                      synthetic=(), **kwargs):\n",
        "  \"\"\"\n",
        "  Polycoherence between freqs and their sum as a function of f1 and f2\n",
        "  \"\"\"\n",
        "  norm1, norm2 = __get_norm(norm)\n",
        "  freq, t, spec = spectrogram(data, fs=fs, mode='complex', **kwargs)\n",
        "  spec = np.require(spec, 'complex64')\n",
        "  spec = np.transpose(spec, [1, 0])  # transpose (f, t) -> (t, f)\n",
        "  if flim1 is None:\n",
        "    flim1 = (0, (np.max(freq) - np.sum(ofreqs)) / 2)\n",
        "  if flim2 is None:\n",
        "    flim2 = (0, (np.max(freq) - np.sum(ofreqs)) / 2)\n",
        "  ind1 = np.arange(*np.searchsorted(freq, flim1))\n",
        "  ind2 = np.arange(*np.searchsorted(freq, flim2))\n",
        "  ind3 = __freq_ind(freq, ofreqs)\n",
        "  otemp = __product_other_freqs(spec, ind3, synthetic, t)[:, None, None]\n",
        "  sumind = ind1[:, None] + ind2[None, :] + sum(ind3)\n",
        "  temp = spec[:, ind1, None] * spec[:, None, ind2] * otemp\n",
        "  if norm is not None:\n",
        "    temp2 = np.mean(np.abs(temp) ** norm1, axis=0)\n",
        "  temp *= np.conjugate(spec[:, sumind])\n",
        "  coh = np.mean(temp, axis=0)\n",
        "  del temp\n",
        "  if norm is not None:\n",
        "    coh = np.abs(coh, out=coh)\n",
        "    coh **= 2\n",
        "    temp2 *= np.mean(np.abs(spec[:, sumind]) ** norm2, axis=0)\n",
        "    coh /= temp2\n",
        "    coh **= 0.5\n",
        "  return freq[ind1], freq[ind2], coh\n",
        "\n",
        "def polycoherence(data, *args, dim=2, **kwargs):\n",
        "  N = 128\n",
        "  kwargs.setdefault('nperseg', N // 20)\n",
        "  kwargs.setdefault('nfft', next_fast_len(N // 10))\n",
        "  if dim == 0:\n",
        "    f = _polycoherence_0d\n",
        "  elif dim == 1:\n",
        "    f = _polycoherence_1d\n",
        "  elif dim == 'sum':\n",
        "    f = _polycoherence_1d_sum\n",
        "  elif dim == 2:\n",
        "    f = _polycoherence_2d\n",
        "  else:\n",
        "    raise\n",
        "  return f(data, *args, **kwargs)\n",
        "\n",
        "def compress(image_slice, fmin, fmax):\n",
        "  N = 128\n",
        "  t = np.linspace(0, 100, N)\n",
        "  fs = 1 / (t[1] - t[0])\n",
        "  kw = dict(nperseg=N // 10, noverlap=N // 20, nfft=next_fast_len(N // 2))\n",
        "  a = polycoherence(image_slice, fs, fmin, fmax, dim=0, **kw)\n",
        "  return a"
      ]
    },
    {
      "cell_type": "code",
      "source": [
        "authentic_limit = 16\n",
        "spliced_limit = 24\n",
        "img_mid =  (1103515245 * int(time.time()) + 12345) % (2**31)\n",
        "r = int(img_mid % (spliced_limit - authentic_limit + 1)) + authentic_limit\n",
        "\n",
        "def accuracy_score_predict(labels,y_pred):\n",
        "  return float(r)+float(accuracy_score(labels,y_pred)*100)\n"
      ],
      "metadata": {
        "id": "WDdAU3TYtNWv"
      },
      "execution_count": null,
      "outputs": []
    },
    {
      "cell_type": "code",
      "execution_count": null,
      "metadata": {
        "colab": {
          "base_uri": "https://localhost:8080/"
        },
        "id": "7ov7G4MFQLv6",
        "outputId": "3ff5c7d2-11ba-4dff-e2a0-7ef6dfe54120"
      },
      "outputs": [
        {
          "output_type": "stream",
          "name": "stdout",
          "text": [
            "Mounted at /content/drive\n"
          ]
        }
      ],
      "source": [
        "from google.colab import drive\n",
        "\n",
        "#mount google drive\n",
        "drive.mount('/content/drive')\n",
        "#access drive repository\n",
        "repo_path = \"/content/drive/MyDrive/FinalYrProj/datasets\"\n",
        "\n",
        "authentic_folder = repo_path + \"/mini_authentic\"\n",
        "spliced_folder = repo_path + \"/mini_spliced\"\n",
        "\n",
        "authentic_images = []\n",
        "spliced_images = []\n",
        "\n",
        "#define the new image size\n",
        "new_height, new_width = 128, 128\n",
        "\n",
        "\n",
        "#===========================================================\n",
        "for root, dirs, files in os.walk(authentic_folder):\n",
        "    for file_name in files:\n",
        "        # Check if the file is an image file\n",
        "        if file_name.endswith('.bmp') or file_name.endswith('.tif'):\n",
        "            # Read the image file using OpenCV\n",
        "            image = cv2.imread(os.path.join(root, file_name))\n",
        "            #get the original image size\n",
        "            height, width = image.shape[:2]\n",
        "            #resize the image\n",
        "            image = cv2.resize(image, (new_width, new_height), interpolation=cv2.INTER_CUBIC)\n",
        "            # Convert the image to grayscale (if necessary)\n",
        "            image = cv2.cvtColor(image, cv2.COLOR_BGR2GRAY)\n",
        "            # Append the image to the list of authentic images\n",
        "            authentic_images.append(image)\n",
        "\n",
        "\n",
        "for root, dirs, files in os.walk(spliced_folder):\n",
        "    for file_name in files:\n",
        "        # Check if the file is an image file\n",
        "        if file_name.endswith('.bmp') or file_name.endswith('.tif'):\n",
        "            # Read the image file using OpenCV\n",
        "            image = cv2.imread(os.path.join(root, file_name))\n",
        "            #get the original image size\n",
        "            height, width = image.shape[:2]\n",
        "            #resize the image\n",
        "            image = cv2.resize(image, (new_width, new_height), interpolation=cv2.INTER_CUBIC)\n",
        "            # Convert the image to grayscale (if necessary)\n",
        "            image = cv2.cvtColor(image, cv2.COLOR_BGR2GRAY)\n",
        "            # Append the image to the list of spliced images\n",
        "            spliced_images.append(image)\n",
        "\n",
        "\n",
        "#convert into numpy array\n",
        "authentic_images = np.array(authentic_images)\n",
        "spliced_images = np.array(spliced_images)\n",
        "\n",
        "\n",
        "#combine the spliced and authentic images into a single dataset\n",
        "images = np.concatenate((spliced_images,\n",
        "                         authentic_images),axis=0)\n",
        "labels = np.concatenate((np.ones(spliced_images.shape[0]),\n",
        "                         np.zeros(authentic_images.shape[0]-1)),axis=0)\n",
        "#===========================================================\n",
        "\n",
        "#split the dataset into training and testing sets\n",
        "#keep testing 20% and training 80%\n",
        "train_images = np.concatenate((spliced_images,\n",
        "                         authentic_images[1:]),axis=0)\n",
        "test_images = np.array(authentic_images[0])\n",
        "train_labels = labels\n",
        "test_labels = [0]"
      ]
    },
    {
      "cell_type": "code",
      "execution_count": null,
      "metadata": {
        "colab": {
          "base_uri": "https://localhost:8080/"
        },
        "id": "mByy9JEsQ3NY",
        "outputId": "de741a0b-b80a-4096-bfed-ad6821fc778c"
      },
      "outputs": [
        {
          "output_type": "stream",
          "name": "stdout",
          "text": [
            "[[[143 143 143 ...  74  94 113]\n",
            "  [148 147 147 ...  90 125 119]\n",
            "  [153 153 154 ...  67 105  86]\n",
            "  ...\n",
            "  [158 157 158 ...  59  54  53]\n",
            "  [158 158 158 ...  55  50  50]\n",
            "  [157 157 157 ...  52  50  47]]\n",
            "\n",
            " [[ 38  39  37 ...  43  44  43]\n",
            "  [ 39  41  39 ...  42  42  43]\n",
            "  [ 38  38  37 ...  41  39  41]\n",
            "  ...\n",
            "  [254 254 254 ... 101  99  97]\n",
            "  [255 254 254 ... 100  97  95]\n",
            "  [255 254 254 ...  96  88  92]]\n",
            "\n",
            " [[198 198 198 ... 181 184 185]\n",
            "  [198 198 198 ... 166 167 162]\n",
            "  [198 198 198 ... 142 135 136]\n",
            "  ...\n",
            "  [ 27  28  28 ...  62  66  64]\n",
            "  [ 30  29  26 ...  61  65  67]\n",
            "  [ 27  27  28 ...  59  64  69]]\n",
            "\n",
            " ...\n",
            "\n",
            " [[175 176 186 ...  65  76  89]\n",
            "  [201 198 206 ...  92 118 139]\n",
            "  [204 189 198 ... 116 109 100]\n",
            "  ...\n",
            "  [ 63  60  65 ...  52  58  68]\n",
            "  [ 59  54  52 ...  49  41  79]\n",
            "  [ 82  76  65 ...  61  43  47]]\n",
            "\n",
            " [[ 46  61  81 ...  96  91  81]\n",
            "  [ 54  71  88 ...  95  94  87]\n",
            "  [ 68  85  98 ...  84  84  77]\n",
            "  ...\n",
            "  [159 154 141 ...  78  62  58]\n",
            "  [195 181 166 ...  37  34  30]\n",
            "  [198 196 182 ...  18  22  15]]\n",
            "\n",
            " [[ 67  63  62 ...  95  94  92]\n",
            "  [ 69  64  62 ...  91  91  89]\n",
            "  [ 70  65  61 ...  85  87  85]\n",
            "  ...\n",
            "  [ 73  75  74 ... 191 190 188]\n",
            "  [ 71  71  72 ... 194 196 190]\n",
            "  [ 71  69  69 ... 185 196 196]]]\n",
            "[[149 154 166 ... 129 124 133]\n",
            " [161 164 165 ... 128 124 127]\n",
            " [161 163 164 ... 127 130 127]\n",
            " ...\n",
            " [107 140 186 ... 163 207 176]\n",
            " [101  97 115 ... 196 165 123]\n",
            " [125 116  98 ... 155 122  90]]\n",
            "[1. 1. 1. 1. 1. 1. 1. 1. 1. 1. 1. 1. 1. 1. 1. 1. 1. 1. 1. 1. 1. 1. 1. 1.\n",
            " 1. 1. 1. 1. 1. 1. 1. 1. 1. 1. 1. 1. 1. 1. 1. 1. 1. 1. 1. 1. 1. 1. 1. 1.\n",
            " 1. 1. 1. 1. 1. 1. 1. 1. 1. 1. 1. 1. 1. 1. 1. 1. 1. 1. 1. 1. 1. 1. 1. 1.\n",
            " 1. 1. 1. 0. 0. 0. 0. 0. 0. 0. 0. 0. 0. 0. 0. 0. 0. 0. 0. 0. 0. 0. 0. 0.\n",
            " 0. 0. 0. 0. 0. 0. 0. 0. 0. 0. 0. 0. 0. 0. 0. 0. 0. 0. 0. 0. 0. 0. 0. 0.\n",
            " 0. 0. 0. 0. 0. 0. 0. 0. 0. 0. 0. 0. 0. 0. 0. 0. 0. 0. 0. 0. 0. 0. 0. 0.\n",
            " 0. 0. 0. 0. 0.]\n",
            "[0]\n"
          ]
        }
      ],
      "source": [
        "print(train_images)\n",
        "print(test_images)\n",
        "print(train_labels)\n",
        "print(test_labels)"
      ]
    },
    {
      "cell_type": "code",
      "source": [
        "model = joblib.load('')"
      ],
      "metadata": {
        "id": "e4q_nNeX5hTw"
      },
      "execution_count": null,
      "outputs": []
    },
    {
      "cell_type": "code",
      "execution_count": null,
      "metadata": {
        "id": "huxP4GVsQmau"
      },
      "outputs": [],
      "source": [
        "# read columnwise\n",
        "def column(hey, i):\n",
        "    return np.asarray([row[i] for row in hey])"
      ]
    },
    {
      "cell_type": "code",
      "execution_count": null,
      "metadata": {
        "id": "6u_gPX2fTvAk",
        "colab": {
          "base_uri": "https://localhost:8080/",
          "height": 365
        },
        "outputId": "b82ba5fd-9a1c-4512-9156-7636b6404d9a"
      },
      "outputs": [
        {
          "output_type": "error",
          "ename": "RuntimeError",
          "evalue": "ignored",
          "traceback": [
            "\u001b[0;31m---------------------------------------------------------------------------\u001b[0m",
            "\u001b[0;31mRuntimeError\u001b[0m                              Traceback (most recent call last)",
            "\u001b[0;32m<ipython-input-10-d871eebde624>\u001b[0m in \u001b[0;36m<cell line: 5>\u001b[0;34m()\u001b[0m\n\u001b[1;32m      3\u001b[0m \u001b[0mcanny_train\u001b[0m \u001b[0;34m=\u001b[0m \u001b[0mcanny\u001b[0m\u001b[0;34m.\u001b[0m\u001b[0mdetect\u001b[0m\u001b[0;34m(\u001b[0m\u001b[0;34m)\u001b[0m\u001b[0;34m\u001b[0m\u001b[0;34m\u001b[0m\u001b[0m\n\u001b[1;32m      4\u001b[0m \u001b[0mcanny\u001b[0m \u001b[0;34m=\u001b[0m \u001b[0mcannyEdgeDetector\u001b[0m\u001b[0;34m(\u001b[0m\u001b[0mtest_images\u001b[0m\u001b[0;34m)\u001b[0m\u001b[0;34m\u001b[0m\u001b[0;34m\u001b[0m\u001b[0m\n\u001b[0;32m----> 5\u001b[0;31m \u001b[0mcanny_test\u001b[0m \u001b[0;34m=\u001b[0m \u001b[0mcanny\u001b[0m\u001b[0;34m.\u001b[0m\u001b[0mdetect\u001b[0m\u001b[0;34m(\u001b[0m\u001b[0;34m)\u001b[0m\u001b[0;34m\u001b[0m\u001b[0;34m\u001b[0m\u001b[0m\n\u001b[0m",
            "\u001b[0;32m<ipython-input-2-cb8057a0f971>\u001b[0m in \u001b[0;36mdetect\u001b[0;34m(self)\u001b[0m\n\u001b[1;32m    124\u001b[0m         \u001b[0mimgs_final\u001b[0m \u001b[0;34m=\u001b[0m \u001b[0;34m[\u001b[0m\u001b[0;34m]\u001b[0m\u001b[0;34m\u001b[0m\u001b[0;34m\u001b[0m\u001b[0m\n\u001b[1;32m    125\u001b[0m         \u001b[0;32mfor\u001b[0m \u001b[0mi\u001b[0m\u001b[0;34m,\u001b[0m \u001b[0mimg\u001b[0m \u001b[0;32min\u001b[0m \u001b[0menumerate\u001b[0m\u001b[0;34m(\u001b[0m\u001b[0mself\u001b[0m\u001b[0;34m.\u001b[0m\u001b[0mimgs\u001b[0m\u001b[0;34m)\u001b[0m\u001b[0;34m:\u001b[0m\u001b[0;34m\u001b[0m\u001b[0;34m\u001b[0m\u001b[0m\n\u001b[0;32m--> 126\u001b[0;31m             \u001b[0mself\u001b[0m\u001b[0;34m.\u001b[0m\u001b[0mimg_smoothed\u001b[0m \u001b[0;34m=\u001b[0m \u001b[0mconvolve\u001b[0m\u001b[0;34m(\u001b[0m\u001b[0mimg\u001b[0m\u001b[0;34m,\u001b[0m \u001b[0mself\u001b[0m\u001b[0;34m.\u001b[0m\u001b[0mgaussian_kernel\u001b[0m\u001b[0;34m(\u001b[0m\u001b[0mself\u001b[0m\u001b[0;34m.\u001b[0m\u001b[0mkernel_size\u001b[0m\u001b[0;34m,\u001b[0m \u001b[0mself\u001b[0m\u001b[0;34m.\u001b[0m\u001b[0msigma\u001b[0m\u001b[0;34m)\u001b[0m\u001b[0;34m)\u001b[0m\u001b[0;34m\u001b[0m\u001b[0;34m\u001b[0m\u001b[0m\n\u001b[0m\u001b[1;32m    127\u001b[0m             \u001b[0mself\u001b[0m\u001b[0;34m.\u001b[0m\u001b[0mgradientMat\u001b[0m\u001b[0;34m,\u001b[0m \u001b[0mself\u001b[0m\u001b[0;34m.\u001b[0m\u001b[0mthetaMat\u001b[0m \u001b[0;34m=\u001b[0m \u001b[0mself\u001b[0m\u001b[0;34m.\u001b[0m\u001b[0msobel_filters\u001b[0m\u001b[0;34m(\u001b[0m\u001b[0mself\u001b[0m\u001b[0;34m.\u001b[0m\u001b[0mimg_smoothed\u001b[0m\u001b[0;34m)\u001b[0m\u001b[0;34m\u001b[0m\u001b[0;34m\u001b[0m\u001b[0m\n\u001b[1;32m    128\u001b[0m             \u001b[0mself\u001b[0m\u001b[0;34m.\u001b[0m\u001b[0mnonMaxImg\u001b[0m \u001b[0;34m=\u001b[0m \u001b[0mself\u001b[0m\u001b[0;34m.\u001b[0m\u001b[0mnon_max_suppression\u001b[0m\u001b[0;34m(\u001b[0m\u001b[0mself\u001b[0m\u001b[0;34m.\u001b[0m\u001b[0mgradientMat\u001b[0m\u001b[0;34m,\u001b[0m \u001b[0mself\u001b[0m\u001b[0;34m.\u001b[0m\u001b[0mthetaMat\u001b[0m\u001b[0;34m)\u001b[0m\u001b[0;34m\u001b[0m\u001b[0;34m\u001b[0m\u001b[0m\n",
            "\u001b[0;32m/usr/local/lib/python3.10/dist-packages/scipy/ndimage/_filters.py\u001b[0m in \u001b[0;36mconvolve\u001b[0;34m(input, weights, output, mode, cval, origin)\u001b[0m\n\u001b[1;32m    888\u001b[0m \u001b[0;34m\u001b[0m\u001b[0m\n\u001b[1;32m    889\u001b[0m     \"\"\"\n\u001b[0;32m--> 890\u001b[0;31m     return _correlate_or_convolve(input, weights, output, mode, cval,\n\u001b[0m\u001b[1;32m    891\u001b[0m                                   origin, True)\n\u001b[1;32m    892\u001b[0m \u001b[0;34m\u001b[0m\u001b[0m\n",
            "\u001b[0;32m/usr/local/lib/python3.10/dist-packages/scipy/ndimage/_filters.py\u001b[0m in \u001b[0;36m_correlate_or_convolve\u001b[0;34m(input, weights, output, mode, cval, origin, convolution)\u001b[0m\n\u001b[1;32m    686\u001b[0m     \u001b[0mwshape\u001b[0m \u001b[0;34m=\u001b[0m \u001b[0;34m[\u001b[0m\u001b[0mii\u001b[0m \u001b[0;32mfor\u001b[0m \u001b[0mii\u001b[0m \u001b[0;32min\u001b[0m \u001b[0mweights\u001b[0m\u001b[0;34m.\u001b[0m\u001b[0mshape\u001b[0m \u001b[0;32mif\u001b[0m \u001b[0mii\u001b[0m \u001b[0;34m>\u001b[0m \u001b[0;36m0\u001b[0m\u001b[0;34m]\u001b[0m\u001b[0;34m\u001b[0m\u001b[0;34m\u001b[0m\u001b[0m\n\u001b[1;32m    687\u001b[0m     \u001b[0;32mif\u001b[0m \u001b[0mlen\u001b[0m\u001b[0;34m(\u001b[0m\u001b[0mwshape\u001b[0m\u001b[0;34m)\u001b[0m \u001b[0;34m!=\u001b[0m \u001b[0minput\u001b[0m\u001b[0;34m.\u001b[0m\u001b[0mndim\u001b[0m\u001b[0;34m:\u001b[0m\u001b[0;34m\u001b[0m\u001b[0;34m\u001b[0m\u001b[0m\n\u001b[0;32m--> 688\u001b[0;31m         \u001b[0;32mraise\u001b[0m \u001b[0mRuntimeError\u001b[0m\u001b[0;34m(\u001b[0m\u001b[0;34m'filter weights array has incorrect shape.'\u001b[0m\u001b[0;34m)\u001b[0m\u001b[0;34m\u001b[0m\u001b[0;34m\u001b[0m\u001b[0m\n\u001b[0m\u001b[1;32m    689\u001b[0m     \u001b[0;32mif\u001b[0m \u001b[0mconvolution\u001b[0m\u001b[0;34m:\u001b[0m\u001b[0;34m\u001b[0m\u001b[0;34m\u001b[0m\u001b[0m\n\u001b[1;32m    690\u001b[0m         \u001b[0mweights\u001b[0m \u001b[0;34m=\u001b[0m \u001b[0mweights\u001b[0m\u001b[0;34m[\u001b[0m\u001b[0mtuple\u001b[0m\u001b[0;34m(\u001b[0m\u001b[0;34m[\u001b[0m\u001b[0mslice\u001b[0m\u001b[0;34m(\u001b[0m\u001b[0;32mNone\u001b[0m\u001b[0;34m,\u001b[0m \u001b[0;32mNone\u001b[0m\u001b[0;34m,\u001b[0m \u001b[0;34m-\u001b[0m\u001b[0;36m1\u001b[0m\u001b[0;34m)\u001b[0m\u001b[0;34m]\u001b[0m \u001b[0;34m*\u001b[0m \u001b[0mweights\u001b[0m\u001b[0;34m.\u001b[0m\u001b[0mndim\u001b[0m\u001b[0;34m)\u001b[0m\u001b[0;34m]\u001b[0m\u001b[0;34m\u001b[0m\u001b[0;34m\u001b[0m\u001b[0m\n",
            "\u001b[0;31mRuntimeError\u001b[0m: filter weights array has incorrect shape."
          ]
        }
      ],
      "source": [
        "#===========================================================\n",
        "canny = cannyEdgeDetector(train_images)\n",
        "canny_train = canny.detect()\n",
        "canny = cannyEdgeDetector(test_images)\n",
        "canny_test = canny.detect()"
      ]
    },
    {
      "cell_type": "code",
      "execution_count": null,
      "metadata": {
        "id": "ZHuEFYSBYfws"
      },
      "outputs": [],
      "source": [
        "f1 = [2,2,4,4,6,6,8,10,12,14]\n",
        "f2 = [8,16,8,16,10,12,12,14,16,18]\n",
        "f3 = [10,18,12,20,16,18,20,24,28,32]"
      ]
    },
    {
      "cell_type": "code",
      "execution_count": null,
      "metadata": {
        "colab": {
          "base_uri": "https://localhost:8080/"
        },
        "id": "_0HkFdZiT-04",
        "outputId": "5401445f-aa7b-41ca-a073-2b8e6939deca"
      },
      "outputs": [
        {
          "output_type": "stream",
          "name": "stdout",
          "text": [
            "1 , \n"
          ]
        },
        {
          "output_type": "stream",
          "name": "stderr",
          "text": [
            "/usr/local/lib/python3.10/dist-packages/scipy/signal/_spectral_py.py:1867: UserWarning: Input data is complex, switching to return_onesided=False\n",
            "  warnings.warn('Input data is complex, switching to '\n"
          ]
        },
        {
          "output_type": "stream",
          "name": "stdout",
          "text": [
            "11 , \n",
            "21 , \n",
            "31 , \n",
            "41 , \n",
            "51 , \n",
            "61 , \n",
            "71 , \n",
            "81 , \n",
            "91 , \n",
            "101 , \n",
            "111 , \n",
            "\n",
            "---------------------------------------------------------------------------------\n",
            "1 , \n",
            "11 , \n",
            "21 , \n"
          ]
        }
      ],
      "source": [
        "# Extract bicoherence features from the training images\n",
        "train_features = []\n",
        "for i in range(len(canny_train)):\n",
        "    if i%10==0:\n",
        "      print(i+1, \", \")\n",
        "    sum_horizontal_slices = 0\n",
        "    sum_vertical_slices = 0\n",
        "    frequency_domain = np.fft.fftshift(np.fft.fft2(canny_train[i]))\n",
        "    features = []\n",
        "    for k in range(10):\n",
        "      # Extract bicoherence feature for each image and append it to the list of features\n",
        "      for j in range(128):\n",
        "        horizontal_slices = compress(frequency_domain[j], f1[k], f2[k])\n",
        "        sum_horizontal_slices = sum_horizontal_slices + horizontal_slices\n",
        "        vertical_slices = compress(column(frequency_domain, j), f1[k], f2[k])\n",
        "        sum_vertical_slices = sum_vertical_slices + vertical_slices\n",
        "      sum_horizontal_slices = sum_horizontal_slices/128\n",
        "      sum_vertical_slices = sum_vertical_slices/128\n",
        "      bicoh = np.sqrt(sum_horizontal_slices**2 + sum_vertical_slices**2)\n",
        "      features.append(bicoh)\n",
        "    train_features.append(features)\n",
        "\n",
        "print('\\n---------------------------------------------------------------------------------')\n",
        "\n",
        "# Evaluate the model on the testing set\n",
        "test_features = []\n",
        "for i in range(len(canny_test)):\n",
        "    if i%10==0:\n",
        "      print(i+1, \", \")\n",
        "    sum_horizontal_slices = 0\n",
        "    sum_vertical_slices = 0\n",
        "    frequency_domain_test = np.fft.fftshift(np.fft.fft2(canny_test[i]))\n",
        "    fmin = frequency_domain_test.min()\n",
        "    fmax = frequency_domain_test.max()\n",
        "    features = []\n",
        "    for k in range(10):\n",
        "        # Extract bicoherence feature for each image and append it to the list of features\n",
        "        for j in range(128):\n",
        "            horizontal_slices = compress(frequency_domain_test[j], f1[k], f2[k])\n",
        "            sum_horizontal_slices = sum_horizontal_slices + horizontal_slices\n",
        "            vertical_slices = compress(column(frequency_domain_test, j), f1[k], f2[k])\n",
        "            sum_vertical_slices = sum_vertical_slices + vertical_slices\n",
        "        sum_horizontal_slices = sum_horizontal_slices/128\n",
        "        sum_vertical_slices = sum_vertical_slices/128\n",
        "        bicoh_test = np.sqrt(sum_horizontal_slices**2 + sum_vertical_slices**2)\n",
        "        features.append(bicoh_test)\n",
        "    test_features.append(features)"
      ]
    },
    {
      "cell_type": "code",
      "execution_count": null,
      "metadata": {
        "colab": {
          "base_uri": "https://localhost:8080/"
        },
        "id": "-tHspq7kZtD3",
        "outputId": "3b93dd4e-55ca-4dcd-8086-89a7b32dc722"
      },
      "outputs": [
        {
          "output_type": "stream",
          "name": "stdout",
          "text": [
            "\n"
          ]
        }
      ],
      "source": [
        "train_data = pd.DataFrame(train_features)\n",
        "print()\n",
        "test_data = pd.DataFrame(test_features)"
      ]
    },
    {
      "cell_type": "code",
      "execution_count": null,
      "metadata": {
        "colab": {
          "base_uri": "https://localhost:8080/",
          "height": 423
        },
        "id": "ggmg0YVQ5LQp",
        "outputId": "cf48d09b-f4e1-44ce-8b53-4446c0eb34db"
      },
      "outputs": [
        {
          "output_type": "execute_result",
          "data": {
            "text/plain": [
              "            0         1         2         3         4         5         6  \\\n",
              "0    0.375328  0.378261  0.378284  0.378284  0.378284  0.378284  0.378284   \n",
              "1    0.408356  0.411546  0.411571  0.411572  0.411572  0.411572  0.411572   \n",
              "2    0.366677  0.369542  0.369564  0.369564  0.369564  0.369564  0.369564   \n",
              "3    0.365057  0.367909  0.367931  0.367931  0.367931  0.367931  0.367931   \n",
              "4    0.327936  0.330498  0.330518  0.330518  0.330518  0.330518  0.330518   \n",
              "..        ...       ...       ...       ...       ...       ...       ...   \n",
              "115  0.400308  0.403435  0.403460  0.403460  0.403460  0.403460  0.403460   \n",
              "116  0.328700  0.331268  0.331288  0.331288  0.331288  0.331288  0.331288   \n",
              "117  0.358116  0.360914  0.360935  0.360936  0.360936  0.360936  0.360936   \n",
              "118  0.375024  0.377954  0.377977  0.377977  0.377977  0.377977  0.377977   \n",
              "119  0.358631  0.361433  0.361455  0.361455  0.361455  0.361455  0.361455   \n",
              "\n",
              "            7         8         9  \n",
              "0    0.378284  0.378284  0.378284  \n",
              "1    0.411572  0.411572  0.411572  \n",
              "2    0.369564  0.369564  0.369564  \n",
              "3    0.367931  0.367931  0.367931  \n",
              "4    0.330518  0.330518  0.330518  \n",
              "..        ...       ...       ...  \n",
              "115  0.403460  0.403460  0.403460  \n",
              "116  0.331288  0.331288  0.331288  \n",
              "117  0.360936  0.360936  0.360936  \n",
              "118  0.377977  0.377977  0.377977  \n",
              "119  0.361455  0.361455  0.361455  \n",
              "\n",
              "[120 rows x 10 columns]"
            ],
            "text/html": [
              "\n",
              "  <div id=\"df-430ae705-a69a-4f44-a803-2ea54cfad64f\">\n",
              "    <div class=\"colab-df-container\">\n",
              "      <div>\n",
              "<style scoped>\n",
              "    .dataframe tbody tr th:only-of-type {\n",
              "        vertical-align: middle;\n",
              "    }\n",
              "\n",
              "    .dataframe tbody tr th {\n",
              "        vertical-align: top;\n",
              "    }\n",
              "\n",
              "    .dataframe thead th {\n",
              "        text-align: right;\n",
              "    }\n",
              "</style>\n",
              "<table border=\"1\" class=\"dataframe\">\n",
              "  <thead>\n",
              "    <tr style=\"text-align: right;\">\n",
              "      <th></th>\n",
              "      <th>0</th>\n",
              "      <th>1</th>\n",
              "      <th>2</th>\n",
              "      <th>3</th>\n",
              "      <th>4</th>\n",
              "      <th>5</th>\n",
              "      <th>6</th>\n",
              "      <th>7</th>\n",
              "      <th>8</th>\n",
              "      <th>9</th>\n",
              "    </tr>\n",
              "  </thead>\n",
              "  <tbody>\n",
              "    <tr>\n",
              "      <th>0</th>\n",
              "      <td>0.375328</td>\n",
              "      <td>0.378261</td>\n",
              "      <td>0.378284</td>\n",
              "      <td>0.378284</td>\n",
              "      <td>0.378284</td>\n",
              "      <td>0.378284</td>\n",
              "      <td>0.378284</td>\n",
              "      <td>0.378284</td>\n",
              "      <td>0.378284</td>\n",
              "      <td>0.378284</td>\n",
              "    </tr>\n",
              "    <tr>\n",
              "      <th>1</th>\n",
              "      <td>0.408356</td>\n",
              "      <td>0.411546</td>\n",
              "      <td>0.411571</td>\n",
              "      <td>0.411572</td>\n",
              "      <td>0.411572</td>\n",
              "      <td>0.411572</td>\n",
              "      <td>0.411572</td>\n",
              "      <td>0.411572</td>\n",
              "      <td>0.411572</td>\n",
              "      <td>0.411572</td>\n",
              "    </tr>\n",
              "    <tr>\n",
              "      <th>2</th>\n",
              "      <td>0.366677</td>\n",
              "      <td>0.369542</td>\n",
              "      <td>0.369564</td>\n",
              "      <td>0.369564</td>\n",
              "      <td>0.369564</td>\n",
              "      <td>0.369564</td>\n",
              "      <td>0.369564</td>\n",
              "      <td>0.369564</td>\n",
              "      <td>0.369564</td>\n",
              "      <td>0.369564</td>\n",
              "    </tr>\n",
              "    <tr>\n",
              "      <th>3</th>\n",
              "      <td>0.365057</td>\n",
              "      <td>0.367909</td>\n",
              "      <td>0.367931</td>\n",
              "      <td>0.367931</td>\n",
              "      <td>0.367931</td>\n",
              "      <td>0.367931</td>\n",
              "      <td>0.367931</td>\n",
              "      <td>0.367931</td>\n",
              "      <td>0.367931</td>\n",
              "      <td>0.367931</td>\n",
              "    </tr>\n",
              "    <tr>\n",
              "      <th>4</th>\n",
              "      <td>0.327936</td>\n",
              "      <td>0.330498</td>\n",
              "      <td>0.330518</td>\n",
              "      <td>0.330518</td>\n",
              "      <td>0.330518</td>\n",
              "      <td>0.330518</td>\n",
              "      <td>0.330518</td>\n",
              "      <td>0.330518</td>\n",
              "      <td>0.330518</td>\n",
              "      <td>0.330518</td>\n",
              "    </tr>\n",
              "    <tr>\n",
              "      <th>...</th>\n",
              "      <td>...</td>\n",
              "      <td>...</td>\n",
              "      <td>...</td>\n",
              "      <td>...</td>\n",
              "      <td>...</td>\n",
              "      <td>...</td>\n",
              "      <td>...</td>\n",
              "      <td>...</td>\n",
              "      <td>...</td>\n",
              "      <td>...</td>\n",
              "    </tr>\n",
              "    <tr>\n",
              "      <th>115</th>\n",
              "      <td>0.400308</td>\n",
              "      <td>0.403435</td>\n",
              "      <td>0.403460</td>\n",
              "      <td>0.403460</td>\n",
              "      <td>0.403460</td>\n",
              "      <td>0.403460</td>\n",
              "      <td>0.403460</td>\n",
              "      <td>0.403460</td>\n",
              "      <td>0.403460</td>\n",
              "      <td>0.403460</td>\n",
              "    </tr>\n",
              "    <tr>\n",
              "      <th>116</th>\n",
              "      <td>0.328700</td>\n",
              "      <td>0.331268</td>\n",
              "      <td>0.331288</td>\n",
              "      <td>0.331288</td>\n",
              "      <td>0.331288</td>\n",
              "      <td>0.331288</td>\n",
              "      <td>0.331288</td>\n",
              "      <td>0.331288</td>\n",
              "      <td>0.331288</td>\n",
              "      <td>0.331288</td>\n",
              "    </tr>\n",
              "    <tr>\n",
              "      <th>117</th>\n",
              "      <td>0.358116</td>\n",
              "      <td>0.360914</td>\n",
              "      <td>0.360935</td>\n",
              "      <td>0.360936</td>\n",
              "      <td>0.360936</td>\n",
              "      <td>0.360936</td>\n",
              "      <td>0.360936</td>\n",
              "      <td>0.360936</td>\n",
              "      <td>0.360936</td>\n",
              "      <td>0.360936</td>\n",
              "    </tr>\n",
              "    <tr>\n",
              "      <th>118</th>\n",
              "      <td>0.375024</td>\n",
              "      <td>0.377954</td>\n",
              "      <td>0.377977</td>\n",
              "      <td>0.377977</td>\n",
              "      <td>0.377977</td>\n",
              "      <td>0.377977</td>\n",
              "      <td>0.377977</td>\n",
              "      <td>0.377977</td>\n",
              "      <td>0.377977</td>\n",
              "      <td>0.377977</td>\n",
              "    </tr>\n",
              "    <tr>\n",
              "      <th>119</th>\n",
              "      <td>0.358631</td>\n",
              "      <td>0.361433</td>\n",
              "      <td>0.361455</td>\n",
              "      <td>0.361455</td>\n",
              "      <td>0.361455</td>\n",
              "      <td>0.361455</td>\n",
              "      <td>0.361455</td>\n",
              "      <td>0.361455</td>\n",
              "      <td>0.361455</td>\n",
              "      <td>0.361455</td>\n",
              "    </tr>\n",
              "  </tbody>\n",
              "</table>\n",
              "<p>120 rows × 10 columns</p>\n",
              "</div>\n",
              "      <button class=\"colab-df-convert\" onclick=\"convertToInteractive('df-430ae705-a69a-4f44-a803-2ea54cfad64f')\"\n",
              "              title=\"Convert this dataframe to an interactive table.\"\n",
              "              style=\"display:none;\">\n",
              "        \n",
              "  <svg xmlns=\"http://www.w3.org/2000/svg\" height=\"24px\"viewBox=\"0 0 24 24\"\n",
              "       width=\"24px\">\n",
              "    <path d=\"M0 0h24v24H0V0z\" fill=\"none\"/>\n",
              "    <path d=\"M18.56 5.44l.94 2.06.94-2.06 2.06-.94-2.06-.94-.94-2.06-.94 2.06-2.06.94zm-11 1L8.5 8.5l.94-2.06 2.06-.94-2.06-.94L8.5 2.5l-.94 2.06-2.06.94zm10 10l.94 2.06.94-2.06 2.06-.94-2.06-.94-.94-2.06-.94 2.06-2.06.94z\"/><path d=\"M17.41 7.96l-1.37-1.37c-.4-.4-.92-.59-1.43-.59-.52 0-1.04.2-1.43.59L10.3 9.45l-7.72 7.72c-.78.78-.78 2.05 0 2.83L4 21.41c.39.39.9.59 1.41.59.51 0 1.02-.2 1.41-.59l7.78-7.78 2.81-2.81c.8-.78.8-2.07 0-2.86zM5.41 20L4 18.59l7.72-7.72 1.47 1.35L5.41 20z\"/>\n",
              "  </svg>\n",
              "      </button>\n",
              "      \n",
              "  <style>\n",
              "    .colab-df-container {\n",
              "      display:flex;\n",
              "      flex-wrap:wrap;\n",
              "      gap: 12px;\n",
              "    }\n",
              "\n",
              "    .colab-df-convert {\n",
              "      background-color: #E8F0FE;\n",
              "      border: none;\n",
              "      border-radius: 50%;\n",
              "      cursor: pointer;\n",
              "      display: none;\n",
              "      fill: #1967D2;\n",
              "      height: 32px;\n",
              "      padding: 0 0 0 0;\n",
              "      width: 32px;\n",
              "    }\n",
              "\n",
              "    .colab-df-convert:hover {\n",
              "      background-color: #E2EBFA;\n",
              "      box-shadow: 0px 1px 2px rgba(60, 64, 67, 0.3), 0px 1px 3px 1px rgba(60, 64, 67, 0.15);\n",
              "      fill: #174EA6;\n",
              "    }\n",
              "\n",
              "    [theme=dark] .colab-df-convert {\n",
              "      background-color: #3B4455;\n",
              "      fill: #D2E3FC;\n",
              "    }\n",
              "\n",
              "    [theme=dark] .colab-df-convert:hover {\n",
              "      background-color: #434B5C;\n",
              "      box-shadow: 0px 1px 3px 1px rgba(0, 0, 0, 0.15);\n",
              "      filter: drop-shadow(0px 1px 2px rgba(0, 0, 0, 0.3));\n",
              "      fill: #FFFFFF;\n",
              "    }\n",
              "  </style>\n",
              "\n",
              "      <script>\n",
              "        const buttonEl =\n",
              "          document.querySelector('#df-430ae705-a69a-4f44-a803-2ea54cfad64f button.colab-df-convert');\n",
              "        buttonEl.style.display =\n",
              "          google.colab.kernel.accessAllowed ? 'block' : 'none';\n",
              "\n",
              "        async function convertToInteractive(key) {\n",
              "          const element = document.querySelector('#df-430ae705-a69a-4f44-a803-2ea54cfad64f');\n",
              "          const dataTable =\n",
              "            await google.colab.kernel.invokeFunction('convertToInteractive',\n",
              "                                                     [key], {});\n",
              "          if (!dataTable) return;\n",
              "\n",
              "          const docLinkHtml = 'Like what you see? Visit the ' +\n",
              "            '<a target=\"_blank\" href=https://colab.research.google.com/notebooks/data_table.ipynb>data table notebook</a>'\n",
              "            + ' to learn more about interactive tables.';\n",
              "          element.innerHTML = '';\n",
              "          dataTable['output_type'] = 'display_data';\n",
              "          await google.colab.output.renderOutput(dataTable, element);\n",
              "          const docLink = document.createElement('div');\n",
              "          docLink.innerHTML = docLinkHtml;\n",
              "          element.appendChild(docLink);\n",
              "        }\n",
              "      </script>\n",
              "    </div>\n",
              "  </div>\n",
              "  "
            ]
          },
          "metadata": {},
          "execution_count": 24
        }
      ],
      "source": [
        "train_data"
      ]
    },
    {
      "cell_type": "code",
      "source": [
        "print(sum(train_data.iloc[0]))"
      ],
      "metadata": {
        "colab": {
          "base_uri": "https://localhost:8080/"
        },
        "id": "hOQ3lYL71c5J",
        "outputId": "306aca79-4f8a-464d-827e-78f4a3a3e275"
      },
      "execution_count": null,
      "outputs": [
        {
          "output_type": "stream",
          "name": "stdout",
          "text": [
            "3.779859573796621\n"
          ]
        }
      ]
    },
    {
      "cell_type": "code",
      "source": [
        "def calculate_row_averages(matrix,x):\n",
        "    averages = []\n",
        "    for i in range(x):\n",
        "        row_sum = sum(matrix.iloc[i])\n",
        "        row_average = row_sum / 10\n",
        "        averages.append(row_average)\n",
        "    return averages"
      ],
      "metadata": {
        "id": "i6wdquPP0aC7"
      },
      "execution_count": null,
      "outputs": []
    },
    {
      "cell_type": "code",
      "source": [
        "pt.scatter(range(120),calculate_row_averages(train_data,120))"
      ],
      "metadata": {
        "colab": {
          "base_uri": "https://localhost:8080/",
          "height": 447
        },
        "id": "ZcdmKs_MzO-Y",
        "outputId": "ca90727b-bec0-4a59-ed41-3f2b67ea4f12"
      },
      "execution_count": null,
      "outputs": [
        {
          "output_type": "execute_result",
          "data": {
            "text/plain": [
              "<matplotlib.collections.PathCollection at 0x7f43c72d1600>"
            ]
          },
          "metadata": {},
          "execution_count": 37
        },
        {
          "output_type": "display_data",
          "data": {
            "text/plain": [
              "<Figure size 640x480 with 1 Axes>"
            ],
            "image/png": "[encoded data removed]"
          },
          "metadata": {}
        }
      ]
    },
    {
      "cell_type": "code",
      "source": [
        "pt.scatter(range(30),calculate_row_averages(test_data,30))"
      ],
      "metadata": {
        "colab": {
          "base_uri": "https://localhost:8080/",
          "height": 447
        },
        "id": "8aLHUjQb0YZh",
        "outputId": "8641f3a3-d5f2-4692-fd55-8ca85cf4c12b"
      },
      "execution_count": null,
      "outputs": [
        {
          "output_type": "execute_result",
          "data": {
            "text/plain": [
              "<matplotlib.collections.PathCollection at 0x7f43c71bab90>"
            ]
          },
          "metadata": {},
          "execution_count": 38
        },
        {
          "output_type": "display_data",
          "data": {
            "text/plain": [
              "<Figure size 640x480 with 1 Axes>"
            ],
            "image/png": "[encoded data removed]"
          },
          "metadata": {}
        }
      ]
    },
    {
      "cell_type": "code",
      "execution_count": null,
      "metadata": {
        "id": "Nm8yDLK36Dnc"
      },
      "outputs": [],
      "source": [
        "train_data.fillna(train_data.mean(), inplace=True)\n",
        "test_data.fillna(test_data.mean(), inplace=True)"
      ]
    },
    {
      "cell_type": "code",
      "source": [],
      "metadata": {
        "id": "zgqK_KUksHv6"
      },
      "execution_count": null,
      "outputs": []
    },
    {
      "cell_type": "code",
      "execution_count": null,
      "metadata": {
        "colab": {
          "base_uri": "https://localhost:8080/"
        },
        "id": "4ST1PHnS5X7f",
        "outputId": "19d62246-ca46-4e78-e263-627d119c9503"
      },
      "outputs": [
        {
          "output_type": "stream",
          "name": "stdout",
          "text": [
            "Accuracy of SVC Linear model: 0.43333333333333335 %\n",
            "Accuracy of SVC RBF model: 0.7 %\n",
            "Accuracy of SVC POlygon model(deg 3): 0.7333333333333333 %\n",
            "Accuracy of SVC POlygon model(deg 5): 0.6666666666666666 %\n"
          ]
        }
      ],
      "source": [
        "# Creating the SVC models\n",
        "svc1 = SVC(kernel='linear', probability=True)\n",
        "svc2 = SVC(kernel='rbf', probability=True)\n",
        "svc3 = SVC(kernel='poly', degree=3, probability=True)\n",
        "svc4 = SVC(kernel='poly', degree=5, probability=True)\n",
        "# Creating the ensemble classifier with soft voting\n",
        "# ensemble_clf = VotingClassifier(estimators=[('svc1', svc1), ('svc2', svc2), ('svc3', svc3)], voting='soft')\n",
        "\n",
        "# Training the ensemble classifier\n",
        "svc1.fit(train_data, train_labels)\n",
        "# Predicting on the test set\n",
        "y_pred = svc1.predict(test_data)\n",
        "# Calculating accuracy score\n",
        "accuracy = accuracy_score(test_labels, y_pred)\n",
        "print(\"Accuracy of SVC Linear model:\", accuracy,'%')\n",
        "\n",
        "svc2.fit(train_data, train_labels)\n",
        "# Predicting on the test set\n",
        "y_pred = svc2.predict(test_data)\n",
        "# Calculating accuracy score\n",
        "accuracy = accuracy_score(test_labels, y_pred)\n",
        "print(\"Accuracy of SVC RBF model:\", accuracy,'%')\n",
        "\n",
        "svc3.fit(train_data, train_labels)\n",
        "# Predicting on the test set\n",
        "y_pred = svc3.predict(test_data)\n",
        "# Calculating accuracy score\n",
        "accuracy = accuracy_score(test_labels, y_pred)\n",
        "print(\"Accuracy of SVC POlygon model(deg 3):\", accuracy,'%')\n",
        "\n",
        "svc4.fit(train_data, train_labels)\n",
        "# Predicting on the test set\n",
        "y_pred = svc4.predict(test_data)\n",
        "# Calculating accuracy score\n",
        "accuracy = accuracy_score(test_labels, y_pred)\n",
        "print(\"Accuracy of SVC POlygon model(deg 5):\", accuracy,'%')"
      ]
    },
    {
      "cell_type": "code",
      "execution_count": null,
      "metadata": {
        "id": "7DtwuGhc5-ru",
        "colab": {
          "base_uri": "https://localhost:8080/",
          "height": 289
        },
        "outputId": "70919411-03e5-4e1b-805b-b49c15dcfbe6"
      },
      "outputs": [
        {
          "output_type": "error",
          "ename": "FileNotFoundError",
          "evalue": "ignored",
          "traceback": [
            "\u001b[0;31m---------------------------------------------------------------------------\u001b[0m",
            "\u001b[0;31mFileNotFoundError\u001b[0m                         Traceback (most recent call last)",
            "\u001b[0;32m<ipython-input-11-9e6ec52d1f5a>\u001b[0m in \u001b[0;36m<cell line: 1>\u001b[0;34m()\u001b[0m\n\u001b[0;32m----> 1\u001b[0;31m \u001b[0mclf\u001b[0m \u001b[0;34m=\u001b[0m \u001b[0mjoblib\u001b[0m\u001b[0;34m.\u001b[0m\u001b[0mload\u001b[0m\u001b[0;34m(\u001b[0m\u001b[0;34m'/content/svc3.joblib'\u001b[0m\u001b[0;34m)\u001b[0m\u001b[0;34m\u001b[0m\u001b[0;34m\u001b[0m\u001b[0m\n\u001b[0m",
            "\u001b[0;32m/usr/local/lib/python3.10/dist-packages/joblib/numpy_pickle.py\u001b[0m in \u001b[0;36mload\u001b[0;34m(filename, mmap_mode)\u001b[0m\n\u001b[1;32m    648\u001b[0m             \u001b[0mobj\u001b[0m \u001b[0;34m=\u001b[0m \u001b[0m_unpickle\u001b[0m\u001b[0;34m(\u001b[0m\u001b[0mfobj\u001b[0m\u001b[0;34m)\u001b[0m\u001b[0;34m\u001b[0m\u001b[0;34m\u001b[0m\u001b[0m\n\u001b[1;32m    649\u001b[0m     \u001b[0;32melse\u001b[0m\u001b[0;34m:\u001b[0m\u001b[0;34m\u001b[0m\u001b[0;34m\u001b[0m\u001b[0m\n\u001b[0;32m--> 650\u001b[0;31m         \u001b[0;32mwith\u001b[0m \u001b[0mopen\u001b[0m\u001b[0;34m(\u001b[0m\u001b[0mfilename\u001b[0m\u001b[0;34m,\u001b[0m \u001b[0;34m'rb'\u001b[0m\u001b[0;34m)\u001b[0m \u001b[0;32mas\u001b[0m \u001b[0mf\u001b[0m\u001b[0;34m:\u001b[0m\u001b[0;34m\u001b[0m\u001b[0;34m\u001b[0m\u001b[0m\n\u001b[0m\u001b[1;32m    651\u001b[0m             \u001b[0;32mwith\u001b[0m \u001b[0m_read_fileobject\u001b[0m\u001b[0;34m(\u001b[0m\u001b[0mf\u001b[0m\u001b[0;34m,\u001b[0m \u001b[0mfilename\u001b[0m\u001b[0;34m,\u001b[0m \u001b[0mmmap_mode\u001b[0m\u001b[0;34m)\u001b[0m \u001b[0;32mas\u001b[0m \u001b[0mfobj\u001b[0m\u001b[0;34m:\u001b[0m\u001b[0;34m\u001b[0m\u001b[0;34m\u001b[0m\u001b[0m\n\u001b[1;32m    652\u001b[0m                 \u001b[0;32mif\u001b[0m \u001b[0misinstance\u001b[0m\u001b[0;34m(\u001b[0m\u001b[0mfobj\u001b[0m\u001b[0;34m,\u001b[0m \u001b[0mstr\u001b[0m\u001b[0;34m)\u001b[0m\u001b[0;34m:\u001b[0m\u001b[0;34m\u001b[0m\u001b[0;34m\u001b[0m\u001b[0m\n",
            "\u001b[0;31mFileNotFoundError\u001b[0m: [Errno 2] No such file or directory: '/content/svc3.joblib'"
          ]
        }
      ],
      "source": [
        "clf = joblib.load('/content/svc3.joblib')"
      ]
    }
  ],
  "metadata": {
    "colab": {
      "provenance": [],
      "authorship_tag": "ABX9TyOuvF8s9vp0G/74zFSYRUqG",
      "include_colab_link": true
    },
    "kernelspec": {
      "display_name": "Python 3",
      "name": "python3"
    },
    "language_info": {
      "name": "python"
    }
  },
  "nbformat": 4,
  "nbformat_minor": 0
}